{
 "cells": [
  {
   "cell_type": "code",
   "execution_count": 2,
   "id": "ee9df947",
   "metadata": {},
   "outputs": [],
   "source": [
    "my_bearer_token = \"AAAAAAAAAAAAAAAAAAAAAJmhZgEAAAAAELa0jicJTr0DqoxIwgwAE5%2FRvM0%3DVn98L58j7FYGeeifzpFcjZYeKsphgQ4xyyRJqG48IPd6Nwpfdk\""
   ]
  },
  {
   "cell_type": "code",
   "execution_count": 3,
   "id": "8451f3b4",
   "metadata": {},
   "outputs": [],
   "source": [
    "#!pip install -U tweepy"
   ]
  },
  {
   "cell_type": "code",
   "execution_count": 33,
   "id": "7f60834b",
   "metadata": {},
   "outputs": [],
   "source": [
    "import tweepy\n",
    "import time\n",
    "import pandas as pd\n",
    "#tweets_text = []"
   ]
  },
  {
   "cell_type": "code",
   "execution_count": 34,
   "id": "4d32e2e3",
   "metadata": {},
   "outputs": [],
   "source": [
    "#create the client object with the bearer token of your App\n",
    "client = tweepy.Client(bearer_token=my_bearer_token)"
   ]
  },
  {
   "cell_type": "code",
   "execution_count": 69,
   "id": "2c868d2e",
   "metadata": {},
   "outputs": [],
   "source": [
    "def extract_tweets(label):\n",
    "  tweets_text = []\n",
    "  response = client.search_recent_tweets(label,max_results=100)\n",
    "  tweets = response.data\n",
    "  for tweet in tweets:\n",
    "    tweets_text.append(tweet.text)\n",
    "  return tweets_text"
   ]
  },
  {
   "cell_type": "code",
   "execution_count": 77,
   "id": "cacc35ff",
   "metadata": {},
   "outputs": [
    {
     "name": "stdout",
     "output_type": "stream",
     "text": [
      "#elonmusk\n",
      "#elonmusk #tesla\n",
      "#elonmusk #starlink\n",
      "#elonmusk #spacex\n",
      "#elonmusk #twitter\n",
      "#elonmusk #boringcompany\n",
      "#elonmusk #neuralink\n",
      "#elonmusk #billgates\n",
      "#elonmusk #sec\n",
      "#elonmusk #dogecoin\n",
      "elonmusk\n",
      "#electricvehicle\n",
      "#ev\n",
      "#tesla\n",
      "#electriccar\n",
      "#electricbike\n",
      "#evcharging\n",
      "#emobility\n",
      "#electricscooter\n",
      "#chargingstation\n",
      "#evchargers\n",
      "electricvehicle\n",
      "#climatechange\n",
      "#ClimateCrisis\n",
      "#ClimateAction\n",
      "#COP26\n",
      "#COP27\n",
      "#ClimateEmergency\n",
      "#GlasgowClimatePact\n",
      "#ParisAgreement\n",
      "#ClimateJustice\n",
      "#ActOnClimate\n",
      "#ClimateActionNow\n",
      "climatechange\n",
      "#makeinindia\n",
      "#makeinindia #modi\n",
      "#madeinindia\n",
      "#AtmanirbhartaSeShakti\n",
      "#AtmaNirbharBharat\n",
      "#AtmaNirbharBharat #modi\n",
      "#aatmanirbharta\n",
      "#atmanirbhar\n",
      "#swadeshi\n",
      "makeinindia\n",
      "#ramadan\n",
      "#ramadan2022\n",
      "#ramzan\n",
      "#ramzan2022\n",
      "#eid\n",
      "#eid2022\n",
      "#eidmubarak\n",
      "#hariraya\n",
      "#hariraya2022\n",
      "#HariRayaAidilfitri\n",
      "#eidmubarak2022\n",
      "#EidUlFitr\n",
      "#EidUlFitr2022\n",
      "#HariRayaAidilfitri2022\n",
      "ramadan\n",
      "Wall time: 1min 20s\n"
     ]
    }
   ],
   "source": [
    "%%time\n",
    "label_1 = ['#elonmusk', '#elonmusk #tesla', '#elonmusk #starlink', '#elonmusk #spacex',\n",
    "            '#elonmusk #twitter', '#elonmusk #boringcompany', '#elonmusk #neuralink',\n",
    "           '#elonmusk #billgates', '#elonmusk #sec', '#elonmusk #dogecoin']\n",
    "\n",
    "label_2 = ['#electricvehicle','#ev','#tesla','#electriccar','#electricbike','#evcharging',\n",
    "           '#emobility','#electricscooter','#chargingstation','#evchargers']\n",
    "\n",
    "label_3 = ['#climatechange','#ClimateCrisis','#ClimateAction','#COP26','#COP27',\n",
    "           '#ClimateEmergency','#GlasgowClimatePact','#ParisAgreement','#ClimateJustice',\n",
    "          '#ActOnClimate','#ClimateActionNow']\n",
    "\n",
    "label_4 = ['#makeinindia','#makeinindia #modi','#madeinindia','#AtmanirbhartaSeShakti',\n",
    "           '#AtmaNirbharBharat','#AtmaNirbharBharat #modi','#aatmanirbharta','#atmanirbhar',\n",
    "           '#swadeshi']\n",
    "\n",
    "label_5 = ['#ramadan','#ramadan2022','#ramzan','#ramzan2022','#eid',\n",
    "           '#eid2022','#eidmubarak','#hariraya','#hariraya2022','#HariRayaAidilfitri',\n",
    "           '#eidmubarak2022','#EidUlFitr','#EidUlFitr2022','#HariRayaAidilfitri2022']\n",
    "\n",
    "label_dict = {'elonmusk' : label_1,\n",
    "            'electricvehicle' : label_2,\n",
    "            'climatechange' : label_3,\n",
    "            'makeinindia' : label_4,\n",
    "            'ramadan' : label_5\n",
    "           }\n",
    "\n",
    "final_df = pd.DataFrame([])\n",
    "for label, items in label_dict.items():\n",
    "    for item in items:\n",
    "        print(item)\n",
    "        tweets_text = extract_tweets(label = f\"{item} lang:en -is:retweet\")\n",
    "        df = pd.DataFrame({'Tweets': tweets_text, 'label': label}) \n",
    "        final_df = final_df.append(df)\n",
    "        time.sleep(1)\n",
    "    print(label)"
   ]
  },
  {
   "cell_type": "code",
   "execution_count": 80,
   "id": "b4365238",
   "metadata": {},
   "outputs": [],
   "source": [
    "final_df.to_csv('final_dataset_casestudy.csv', index=False)"
   ]
  },
  {
   "cell_type": "code",
   "execution_count": 78,
   "id": "2d72b5b5",
   "metadata": {},
   "outputs": [
    {
     "data": {
      "text/plain": [
       "(4121, 2)"
      ]
     },
     "execution_count": 78,
     "metadata": {},
     "output_type": "execute_result"
    }
   ],
   "source": [
    "final_df.shape\n"
   ]
  },
  {
   "cell_type": "code",
   "execution_count": 79,
   "id": "7b5fc78c",
   "metadata": {},
   "outputs": [
    {
     "data": {
      "text/plain": [
       "3545"
      ]
     },
     "execution_count": 79,
     "metadata": {},
     "output_type": "execute_result"
    }
   ],
   "source": [
    "final_df[\"Tweets\"].nunique()"
   ]
  },
  {
   "cell_type": "code",
   "execution_count": 88,
   "id": "ba957ed4",
   "metadata": {},
   "outputs": [
    {
     "data": {
      "text/plain": [
       "climatechange      931\n",
       "electricvehicle    776\n",
       "elonmusk           770\n",
       "ramadan            673\n",
       "makeinindia        395\n",
       "Name: label, dtype: int64"
      ]
     },
     "execution_count": 88,
     "metadata": {},
     "output_type": "execute_result"
    }
   ],
   "source": [
    "x = final_df.drop_duplicates(subset=['Tweets'])\n",
    "x.label.value_counts()"
   ]
  },
  {
   "cell_type": "code",
   "execution_count": 87,
   "id": "f48c0c0d",
   "metadata": {},
   "outputs": [
    {
     "data": {
      "text/html": [
       "<div>\n",
       "<style scoped>\n",
       "    .dataframe tbody tr th:only-of-type {\n",
       "        vertical-align: middle;\n",
       "    }\n",
       "\n",
       "    .dataframe tbody tr th {\n",
       "        vertical-align: top;\n",
       "    }\n",
       "\n",
       "    .dataframe thead th {\n",
       "        text-align: right;\n",
       "    }\n",
       "</style>\n",
       "<table border=\"1\" class=\"dataframe\">\n",
       "  <thead>\n",
       "    <tr style=\"text-align: right;\">\n",
       "      <th></th>\n",
       "      <th>Tweets</th>\n",
       "      <th>label</th>\n",
       "    </tr>\n",
       "  </thead>\n",
       "  <tbody>\n",
       "    <tr>\n",
       "      <th>0</th>\n",
       "      <td>@cz_binance What's the rationale for the DOD g...</td>\n",
       "      <td>elonmusk</td>\n",
       "    </tr>\n",
       "    <tr>\n",
       "      <th>2</th>\n",
       "      <td>@richards_crypto @kryptochay ⚡️The Future is N...</td>\n",
       "      <td>elonmusk</td>\n",
       "    </tr>\n",
       "    <tr>\n",
       "      <th>3</th>\n",
       "      <td>@WatcherGuru What's the rationale for the DOD ...</td>\n",
       "      <td>elonmusk</td>\n",
       "    </tr>\n",
       "    <tr>\n",
       "      <th>4</th>\n",
       "      <td>Just stack #Bitcoin and hold. Life changing. #...</td>\n",
       "      <td>elonmusk</td>\n",
       "    </tr>\n",
       "    <tr>\n",
       "      <th>5</th>\n",
       "      <td>@JP_9_1988 @disberam @bitcoinlfgo ⚡️The Future...</td>\n",
       "      <td>elonmusk</td>\n",
       "    </tr>\n",
       "  </tbody>\n",
       "</table>\n",
       "</div>"
      ],
      "text/plain": [
       "                                              Tweets     label\n",
       "0  @cz_binance What's the rationale for the DOD g...  elonmusk\n",
       "2  @richards_crypto @kryptochay ⚡️The Future is N...  elonmusk\n",
       "3  @WatcherGuru What's the rationale for the DOD ...  elonmusk\n",
       "4  Just stack #Bitcoin and hold. Life changing. #...  elonmusk\n",
       "5  @JP_9_1988 @disberam @bitcoinlfgo ⚡️The Future...  elonmusk"
      ]
     },
     "execution_count": 87,
     "metadata": {},
     "output_type": "execute_result"
    }
   ],
   "source": [
    "x.head()"
   ]
  },
  {
   "cell_type": "code",
   "execution_count": 90,
   "id": "f4778b78",
   "metadata": {},
   "outputs": [
    {
     "data": {
      "text/html": [
       "<div>\n",
       "<style scoped>\n",
       "    .dataframe tbody tr th:only-of-type {\n",
       "        vertical-align: middle;\n",
       "    }\n",
       "\n",
       "    .dataframe tbody tr th {\n",
       "        vertical-align: top;\n",
       "    }\n",
       "\n",
       "    .dataframe thead th {\n",
       "        text-align: right;\n",
       "    }\n",
       "</style>\n",
       "<table border=\"1\" class=\"dataframe\">\n",
       "  <thead>\n",
       "    <tr style=\"text-align: right;\">\n",
       "      <th></th>\n",
       "      <th>Tweets</th>\n",
       "      <th>label</th>\n",
       "    </tr>\n",
       "  </thead>\n",
       "  <tbody>\n",
       "    <tr>\n",
       "      <th>37</th>\n",
       "      <td>Glimpse of Eid-ul-fitr🌿\\nMoments of CBD people...</td>\n",
       "      <td>ramadan</td>\n",
       "    </tr>\n",
       "    <tr>\n",
       "      <th>0</th>\n",
       "      <td>13.5.2022 - She'll be nursing me while I recup...</td>\n",
       "      <td>ramadan</td>\n",
       "    </tr>\n",
       "    <tr>\n",
       "      <th>1</th>\n",
       "      <td>Food glorious food #syawal2022🌙 #harirayaaidil...</td>\n",
       "      <td>ramadan</td>\n",
       "    </tr>\n",
       "    <tr>\n",
       "      <th>2</th>\n",
       "      <td>We may be staying within the Klang Valley but ...</td>\n",
       "      <td>ramadan</td>\n",
       "    </tr>\n",
       "    <tr>\n",
       "      <th>3</th>\n",
       "      <td>9.5.2022 - Day out with @edahnasir. Lunch at M...</td>\n",
       "      <td>ramadan</td>\n",
       "    </tr>\n",
       "  </tbody>\n",
       "</table>\n",
       "</div>"
      ],
      "text/plain": [
       "                                               Tweets    label\n",
       "37  Glimpse of Eid-ul-fitr🌿\\nMoments of CBD people...  ramadan\n",
       "0   13.5.2022 - She'll be nursing me while I recup...  ramadan\n",
       "1   Food glorious food #syawal2022🌙 #harirayaaidil...  ramadan\n",
       "2   We may be staying within the Klang Valley but ...  ramadan\n",
       "3   9.5.2022 - Day out with @edahnasir. Lunch at M...  ramadan"
      ]
     },
     "execution_count": 90,
     "metadata": {},
     "output_type": "execute_result"
    }
   ],
   "source": [
    "x.tail()"
   ]
  },
  {
   "cell_type": "code",
   "execution_count": 91,
   "id": "ab373373",
   "metadata": {},
   "outputs": [
    {
     "data": {
      "text/plain": [
       "Text(0.5, 1.0, 'Distribution of Labels')"
      ]
     },
     "execution_count": 91,
     "metadata": {},
     "output_type": "execute_result"
    },
    {
     "data": {
      "image/png": "[encoded data removed]",
      "text/plain": [
       "<Figure size 576x288 with 1 Axes>"
      ]
     },
     "metadata": {
      "needs_background": "light"
     },
     "output_type": "display_data"
    }
   ],
   "source": [
    "import matplotlib.pyplot as plt\n",
    "count = x.label.value_counts()\n",
    "plt.figure(figsize=(8,4))\n",
    "plt.bar(count.index,count.values)\n",
    "plt.title('Distribution of Labels')"
   ]
  },
  {
   "cell_type": "code",
   "execution_count": null,
   "id": "3a0a40a7",
   "metadata": {},
   "outputs": [],
   "source": []
  }
 ],
 "metadata": {
  "kernelspec": {
   "display_name": "Python 3 (ipykernel)",
   "language": "python",
   "name": "python3"
  },
  "language_info": {
   "codemirror_mode": {
    "name": "ipython",
    "version": 3
   },
   "file_extension": ".py",
   "mimetype": "text/x-python",
   "name": "python",
   "nbconvert_exporter": "python",
   "pygments_lexer": "ipython3",
   "version": "3.9.7"
  }
 },
 "nbformat": 4,
 "nbformat_minor": 5
}
